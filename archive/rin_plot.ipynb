{
 "cells": [
  {
   "cell_type": "code",
   "execution_count": 3,
   "id": "9be09f6e",
   "metadata": {},
   "outputs": [],
   "source": [
    "import numpy as np\n",
    "import pandas as pd\n",
    "from matplotlib import pyplot as plt\n",
    "import matplotlib.font_manager"
   ]
  },
  {
   "cell_type": "code",
   "execution_count": 41,
   "id": "47e065d3",
   "metadata": {},
   "outputs": [],
   "source": [
    "rin = {}\n",
    "for x in ['a', 'b', 'c', 'd', 'e']:\n",
    "    rin[x] = {}\n",
    "    tmp = pd.read_table(f'{x}_rin.fraction')\n",
    "    for k in ['hb', 'vdw', 'ss', 'ion', 'pp', 'pc', 'iac', 'any']:\n",
    "        rin[x][k] = np.zeros((200, 200))\n",
    "        for n in range(len(tmp)):\n",
    "            i = tmp.at[n, 'i']\n",
    "            j = tmp.at[n, 'j']\n",
    "            rin[x][k][i][j] = tmp.at[n, k]\n",
    "            rin[x][k][j][i] = tmp.at[n, k]"
   ]
  },
  {
   "cell_type": "code",
   "execution_count": 47,
   "id": "b8ca4819",
   "metadata": {},
   "outputs": [],
   "source": [
    "for x in [['a', 'b'], ['b', 'c'], ['b', 'd'], ['b', 'e']]:\n",
    "    dif = f'{x[0]}-{x[1]}'\n",
    "    rin[dif] = {}\n",
    "    for k in ['hb', 'vdw', 'ss', 'ion', 'pp', 'pc', 'iac', 'any']:\n",
    "        rin[dif][k] = np.subtract(rin[x[1]][k], rin[x[0]][k])"
   ]
  },
  {
   "cell_type": "code",
   "execution_count": 49,
   "id": "2c29cb73",
   "metadata": {},
   "outputs": [
    {
     "data": {
      "text/plain": [
       "array([[ 0.  ,  0.  ,  0.  , ...,  0.  ,  0.  ,  0.  ],\n",
       "       [ 0.  ,  0.  ,  0.  , ...,  0.  , -0.16,  0.  ],\n",
       "       [ 0.  ,  0.  ,  0.  , ...,  0.21,  0.01,  0.  ],\n",
       "       ...,\n",
       "       [ 0.  ,  0.  ,  0.21, ...,  0.  , -0.2 ,  0.  ],\n",
       "       [ 0.  , -0.16,  0.01, ..., -0.2 ,  0.  ,  0.  ],\n",
       "       [ 0.  ,  0.  ,  0.  , ...,  0.  ,  0.  ,  0.  ]])"
      ]
     },
     "execution_count": 49,
     "metadata": {},
     "output_type": "execute_result"
    }
   ],
   "source": [
    "rin['a-b']['hb']"
   ]
  },
  {
   "cell_type": "code",
   "execution_count": 71,
   "id": "aacad5a6",
   "metadata": {},
   "outputs": [
    {
     "data": {
      "image/png": "[encoded data removed]",
      "text/plain": [
       "<Figure size 432x288 with 1 Axes>"
      ]
     },
     "metadata": {
      "needs_background": "light"
     },
     "output_type": "display_data"
    }
   ],
   "source": [
    "fig, ax = plt.subplots()\n",
    "heatmap = ax.pcolor(rin['b-c']['any'], cmap = 'RdBu', vmin = -0.5, vmax = 0.5)"
   ]
  },
  {
   "cell_type": "code",
   "execution_count": null,
   "id": "fa511660",
   "metadata": {},
   "outputs": [],
   "source": []
  }
 ],
 "metadata": {
  "kernelspec": {
   "display_name": "Python 3 (ipykernel)",
   "language": "python",
   "name": "python3"
  },
  "language_info": {
   "codemirror_mode": {
    "name": "ipython",
    "version": 3
   },
   "file_extension": ".py",
   "mimetype": "text/x-python",
   "name": "python",
   "nbconvert_exporter": "python",
   "pygments_lexer": "ipython3",
   "version": "3.9.10"
  }
 },
 "nbformat": 4,
 "nbformat_minor": 5
}
